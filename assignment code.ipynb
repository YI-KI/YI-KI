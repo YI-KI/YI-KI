{
 "cells": [
  {
   "cell_type": "code",
   "execution_count": null,
   "metadata": {},
   "outputs": [],
   "source": [
    "import pandas as pd\n",
    "import numpy as np\n",
    "from scipy.stats import f_oneway\n",
    "from statsmodels.formula.api import ols\n",
    "from statsmodels.stats.anova import anova_lm\n",
    "from statsmodels.stats.multicomp import MultiComparison\n",
    "from statsmodels.graphics.gofplots import qqplot\n",
    "import matplotlib.pyplot as plt\n",
    "import warnings\n"
   ]
  },
  {
   "cell_type": "code",
   "execution_count": null,
   "metadata": {},
   "outputs": [],
   "source": [
    "# Read the raw dataset\n",
    "\n",
    "raw_df = pd.read_csv('coursework_1_data_2019.csv')"
   ]
  },
  {
   "cell_type": "code",
   "execution_count": null,
   "metadata": {},
   "outputs": [],
   "source": [
    "raw_df.info()"
   ]
  },
  {
   "cell_type": "code",
   "execution_count": null,
   "metadata": {},
   "outputs": [],
   "source": [
    "raw_df['condition_X_ratio_2008'] = raw_df['2018_cases_total']/raw_df['2008_pop_total']\n",
    "\n",
    "raw_df['condition_X_ratio_2013'] = raw_df['2018_cases_total']/raw_df['2013_pop_total']\n",
    "\n",
    "raw_df['condition_X_ratio_2018'] = raw_df['2018_cases_total']/raw_df['2018_pop_total']\n",
    "\n",
    "\n",
    "#print(raw_df['condition_X_ratio_2008'])\n",
    "#boxplot = raw_df.boxplot(column=['condition_X_ratio_2008', 'condition_X_ratio_2013', 'condition_X_ratio_2018'], figsize=(20, 20))\n",
    "#boxplot.savefig(\"boxplot.png\")\n",
    "\n",
    "data = raw_df[['condition_X_ratio_2008', 'condition_X_ratio_2013', 'condition_X_ratio_2018']]\n",
    "\n",
    "\n",
    "\n",
    "fig = plt.figure(figsize =(10, 7))\n",
    " \n",
    "# Creating plot\n",
    "plt.boxplot(data)\n",
    "plt.title(\"Boxplot of Obesity Rate from Local Areas in 2008, 2013 and 2018\")\n",
    "\n",
    "# Show plot\n",
    "plt.show()\n",
    "# Save plot\n",
    "plt.savefig(\"boxplot.png\")"
   ]
  },
  {
   "cell_type": "code",
   "execution_count": null,
   "metadata": {},
   "outputs": [],
   "source": [
    "# select predictive variables and remove potential outliers\n",
    "\n",
    "#cols = ['clean_air', 'clean_environ', 'health_training', 'school_awareness', 'media_awareness']\n",
    "\n",
    "\n",
    "#raw_df.hist(column= cols, grid=False, figsize=(18,18), layout=(3,2), rwidth=1.2)\n",
    "\n",
    "region_LD = raw_df[raw_df[\"region\"] == 'London']\n",
    "region_YH = raw_df[raw_df[\"region\"] == 'Yorkshire and the Humber']\n",
    "region_SW = raw_df[raw_df[\"region\"] == 'South West']\n",
    "region_EE = raw_df[raw_df[\"region\"] == 'East of England']\n",
    "region_WM = raw_df[raw_df[\"region\"] == 'West Midlands']\n",
    "region_NW = raw_df[raw_df[\"region\"] == 'North West']\n",
    "region_SE = raw_df[raw_df[\"region\"] == 'South East']\n",
    "region_NE = raw_df[raw_df[\"region\"] == 'North East']\n",
    "region_EM = raw_df[raw_df[\"region\"] == 'East Midlands']\n",
    "\n",
    "\n",
    "raw_df['region'].unique()\n",
    "\n",
    "#region_LD.shape[0]\n",
    "#region_YH.shape[0]\n",
    "#region_SW.shape[0]\n",
    "#region_EE.shape[0]\n",
    "#region_WM.shape[0]\n",
    "#region_NW.shape[0]\n",
    "#region_SE.shape[0]\n",
    "#region_NE.shape[0]\n",
    "region_EM.shape[0]\n"
   ]
  },
  {
   "cell_type": "code",
   "execution_count": null,
   "metadata": {},
   "outputs": [],
   "source": [
    "# fit model by region\n",
    "model_2008 = ols(\"condition_X_ratio_2008 ~ region\", raw_df).fit()\n",
    "res = anova_lm(model_2008, typ=1)\n",
    "\n",
    "print(res)"
   ]
  },
  {
   "cell_type": "code",
   "execution_count": null,
   "metadata": {},
   "outputs": [],
   "source": [
    "comparison_2008 = MultiComparison(raw_df[\"condition_X_ratio_2008\"], raw_df[\"region\"])\n",
    "comparison_results_2008 = comparison_2008.tukeyhsd()\n",
    "comparison_results_2008.summary()\n",
    "comparison_results_2008.plot_simultaneous(comparison_name='London')\n"
   ]
  },
  {
   "cell_type": "code",
   "execution_count": null,
   "metadata": {},
   "outputs": [],
   "source": [
    "comparison_2013 = MultiComparison(raw_df[\"condition_X_ratio_2013\"], raw_df[\"region\"])\n",
    "comparison_results_2013 = comparison_2013.tukeyhsd()\n",
    "comparison_results_2013.summary()\n",
    "comparison_results_2013.plot_simultaneous(comparison_name='London')"
   ]
  },
  {
   "cell_type": "code",
   "execution_count": null,
   "metadata": {},
   "outputs": [],
   "source": [
    "comparison_2018 = MultiComparison(raw_df[\"condition_X_ratio_2018\"], raw_df[\"region\"])\n",
    "comparison_results_2018 = comparison_2018.tukeyhsd()\n",
    "comparison_results_2018.summary()\n",
    "comparison_results_2018.plot_simultaneous(comparison_name='London')"
   ]
  },
  {
   "cell_type": "code",
   "execution_count": null,
   "metadata": {},
   "outputs": [],
   "source": [
    "# QQ plot\n",
    "residuals_2008 = model_2008.resid\n",
    "plot_2008 = qqplot(residuals_2008, line=\"s\")"
   ]
  },
  {
   "cell_type": "code",
   "execution_count": null,
   "metadata": {},
   "outputs": [],
   "source": []
  }
 ],
 "metadata": {
  "kernelspec": {
   "display_name": "Python 3",
   "language": "python",
   "name": "python3"
  },
  "language_info": {
   "codemirror_mode": {
    "name": "ipython",
    "version": 3
   },
   "file_extension": ".py",
   "mimetype": "text/x-python",
   "name": "python",
   "nbconvert_exporter": "python",
   "pygments_lexer": "ipython3",
   "version": "3.8.5"
  }
 },
 "nbformat": 4,
 "nbformat_minor": 4
}
